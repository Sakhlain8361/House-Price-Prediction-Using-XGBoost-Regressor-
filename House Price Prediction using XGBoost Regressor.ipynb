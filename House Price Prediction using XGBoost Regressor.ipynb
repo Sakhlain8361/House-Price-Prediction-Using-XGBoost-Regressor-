{
 "cells": [
  {
   "cell_type": "markdown",
   "id": "fff31de3-e2b8-46fa-9883-9a1d0ea16b32",
   "metadata": {},
   "source": [
    "# House Price Prediction using XGBoost Regressor"
   ]
  },
  {
   "cell_type": "markdown",
   "id": "a75733b4-8d4e-4e28-a631-57d9834f7624",
   "metadata": {},
   "source": [
    "\n",
    "\n",
    "## 1. Introduction\n",
    "This report provides an in-depth analysis of the House Price Prediction dataset and implements the **XGBoost Regressor** to predict house prices. The report includes dataset exploration, preprocessing, model building, evaluation, and conclusion.\n",
    "\n",
    "---\n",
    "\n",
    "## 2. Libraries Used\n",
    "The following libraries are used for data analysis, visualization, preprocessing, and model building:\n",
    "\n"
   ]
  },
  {
   "cell_type": "code",
   "execution_count": 2,
   "id": "2649f1cc-b6d8-408b-964c-2ea4db59f824",
   "metadata": {},
   "outputs": [],
   "source": [
    "import pandas as pd\n",
    "import numpy as np\n",
    "import seaborn as sns\n",
    "import xgboost as xgb\n",
    "from sklearn.model_selection import train_test_split\n",
    "from sklearn.preprocessing import LabelEncoder\n",
    "from sklearn.metrics import mean_squared_error, r2_score"
   ]
  },
  {
   "cell_type": "markdown",
   "id": "0e6510ad-b221-4652-8533-979058ca6bb6",
   "metadata": {},
   "source": [
    "## 3. Dataset Overview"
   ]
  },
  {
   "cell_type": "markdown",
   "id": "11b0044a-8f6a-40bc-9075-4f8863dea805",
   "metadata": {},
   "source": [
    "The dataset contains information about various factors affecting house prices, including:  \n",
    "\n",
    "- **Location**: Categorical, representing the area where the house is located.  \n",
    "- **Size**: Continuous, representing the square footage of the house.  \n",
    "- **Condition**: Categorical, indicating the overall condition of the house.  \n",
    "- **Garage**: Categorical, representing whether a garage is present.  \n",
    "- **Price**: Continuous, representing the actual price of the house.  \n",
    "\n",
    "### 3.1 Number of Columns  \n",
    "\n",
    "The dataset contains multiple attributes related to house pricing. The main features include:  \n",
    "\n",
    "- **Location**  \n",
    "- **Size**  \n",
    "- **Condition**  \n",
    "- **Garage**  \n",
    "- **Price (Target Variable)**  \n",
    "\n",
    "### 3.2 Relationship Between Columns  \n",
    "\n",
    "- **Location and Price**: Houses in prime locations tend to have higher prices.  \n",
    "- **Size and Price**: Larger houses generally have higher prices.  \n",
    "- **Condition and Price**: Well-maintained houses are expected to have higher prices.  \n",
    "- **Garage and Price**: Houses with a garage are usually more expensive.  \n"
   ]
  },
  {
   "cell_type": "markdown",
   "id": "0f04c910-36b0-4fc2-ac6e-86bad216af19",
   "metadata": {},
   "source": [
    "## 4. Basic Analysis"
   ]
  },
  {
   "cell_type": "markdown",
   "id": "dfc25933-fd85-472e-ba38-22d96333e8b5",
   "metadata": {},
   "source": [
    "Loading and displaying the dataset:"
   ]
  },
  {
   "cell_type": "code",
   "execution_count": 3,
   "id": "6f3a5636-a328-471d-81e9-ccb0aaf10911",
   "metadata": {},
   "outputs": [
    {
     "name": "stdout",
     "output_type": "stream",
     "text": [
      "   Id  Area  Bedrooms  Bathrooms  Floors  YearBuilt  Location  Condition  \\\n",
      "0   1  1360         5          4       3       1970  Downtown  Excellent   \n",
      "1   2  4272         5          4       3       1958  Downtown  Excellent   \n",
      "2   3  3592         2          2       3       1938  Downtown       Good   \n",
      "3   4   966         4          2       2       1902  Suburban       Fair   \n",
      "4   5  4926         1          4       2       1975  Downtown       Fair   \n",
      "\n",
      "  Garage   Price  \n",
      "0     No  149919  \n",
      "1     No  424998  \n",
      "2     No  266746  \n",
      "3    Yes  244020  \n",
      "4    Yes  636056  \n",
      "        Id  Area  Bedrooms  Bathrooms  Floors  YearBuilt  Location  Condition  \\\n",
      "1995  1996  4994         5          4       3       1923  Suburban       Poor   \n",
      "1996  1997  3046         5          2       1       2019  Suburban       Poor   \n",
      "1997  1998  1062         5          1       2       1903     Rural       Poor   \n",
      "1998  1999  4062         3          1       2       1936     Urban  Excellent   \n",
      "1999  2000  2989         5          1       3       1903  Suburban       Fair   \n",
      "\n",
      "     Garage   Price  \n",
      "1995     No  295620  \n",
      "1996    Yes  580929  \n",
      "1997     No  476925  \n",
      "1998    Yes  161119  \n",
      "1999     No  482525  \n",
      "<class 'pandas.core.frame.DataFrame'>\n",
      "RangeIndex: 2000 entries, 0 to 1999\n",
      "Data columns (total 10 columns):\n",
      " #   Column     Non-Null Count  Dtype \n",
      "---  ------     --------------  ----- \n",
      " 0   Id         2000 non-null   int64 \n",
      " 1   Area       2000 non-null   int64 \n",
      " 2   Bedrooms   2000 non-null   int64 \n",
      " 3   Bathrooms  2000 non-null   int64 \n",
      " 4   Floors     2000 non-null   int64 \n",
      " 5   YearBuilt  2000 non-null   int64 \n",
      " 6   Location   2000 non-null   object\n",
      " 7   Condition  2000 non-null   object\n",
      " 8   Garage     2000 non-null   object\n",
      " 9   Price      2000 non-null   int64 \n",
      "dtypes: int64(7), object(3)\n",
      "memory usage: 156.4+ KB\n",
      "None\n",
      "                Id         Area     Bedrooms   Bathrooms       Floors  \\\n",
      "count  2000.000000  2000.000000  2000.000000  2000.00000  2000.000000   \n",
      "mean   1000.500000  2786.209500     3.003500     2.55250     1.993500   \n",
      "std     577.494589  1295.146799     1.424606     1.10899     0.809188   \n",
      "min       1.000000   501.000000     1.000000     1.00000     1.000000   \n",
      "25%     500.750000  1653.000000     2.000000     2.00000     1.000000   \n",
      "50%    1000.500000  2833.000000     3.000000     3.00000     2.000000   \n",
      "75%    1500.250000  3887.500000     4.000000     4.00000     3.000000   \n",
      "max    2000.000000  4999.000000     5.000000     4.00000     3.000000   \n",
      "\n",
      "         YearBuilt          Price  \n",
      "count  2000.000000    2000.000000  \n",
      "mean   1961.446000  537676.855000  \n",
      "std      35.926695  276428.845719  \n",
      "min    1900.000000   50005.000000  \n",
      "25%    1930.000000  300098.000000  \n",
      "50%    1961.000000  539254.000000  \n",
      "75%    1993.000000  780086.000000  \n",
      "max    2023.000000  999656.000000  \n"
     ]
    }
   ],
   "source": [
    "data = pd.read_csv(r\"C:\\Users\\Shaik Sakhlaih\\Downloads\\House Price Prediction Dataset.csv\")\n",
    "print(data.head())\n",
    "print(data.tail())\n",
    "print(data.info())\n",
    "print(data.describe())"
   ]
  },
  {
   "cell_type": "markdown",
   "id": "9c0faedf-1665-4bce-9030-b37fdc9ba24f",
   "metadata": {},
   "source": [
    "## 5. Checking for Null Values"
   ]
  },
  {
   "cell_type": "code",
   "execution_count": 4,
   "id": "5e76e58c-d6d2-49f0-bc7d-0f5e3fed00dd",
   "metadata": {},
   "outputs": [
    {
     "name": "stdout",
     "output_type": "stream",
     "text": [
      "Id           0\n",
      "Area         0\n",
      "Bedrooms     0\n",
      "Bathrooms    0\n",
      "Floors       0\n",
      "YearBuilt    0\n",
      "Location     0\n",
      "Condition    0\n",
      "Garage       0\n",
      "Price        0\n",
      "dtype: int64\n"
     ]
    }
   ],
   "source": [
    "print(data.isnull().sum())"
   ]
  },
  {
   "cell_type": "markdown",
   "id": "27b49deb-f9f0-4ba9-ad4f-8fd2ae166eba",
   "metadata": {},
   "source": [
    "Result: The dataset contains no missing values."
   ]
  },
  {
   "cell_type": "markdown",
   "id": "2b09463f-d9e8-4ccd-8759-fad2622879fd",
   "metadata": {},
   "source": [
    "## 6. Data Preprocessing"
   ]
  },
  {
   "cell_type": "markdown",
   "id": "0b6d8524-36cb-4126-9577-4a8185a96576",
   "metadata": {},
   "source": [
    "Since the dataset contains categorical variables, we convert them into numerical format using **Label Encoding**."
   ]
  },
  {
   "cell_type": "code",
   "execution_count": 5,
   "id": "e8639f32-b73a-41b3-b3a7-03c516daef81",
   "metadata": {},
   "outputs": [],
   "source": [
    "le = LabelEncoder()\n",
    "\n",
    "data['Location'] = le.fit_transform(data['Location'])\n",
    "data['Condition'] = le.fit_transform(data['Condition'])\n",
    "data['Garage'] = le.fit_transform(data['Garage'])\n"
   ]
  },
  {
   "cell_type": "markdown",
   "id": "b34bb16e-0b67-4eb6-aa4e-21db4fc3b317",
   "metadata": {},
   "source": [
    "## 7. Model Building"
   ]
  },
  {
   "cell_type": "markdown",
   "id": "61f85e21-3d2e-4178-8f5b-26fd8623f84e",
   "metadata": {},
   "source": [
    "### 7.1 Splitting the Dataset"
   ]
  },
  {
   "cell_type": "markdown",
   "id": "546daa46-f45c-4357-be1f-f57a7037165d",
   "metadata": {},
   "source": [
    "The target variable (**Garage**) is separated, and the dataset is split into training and testing sets."
   ]
  },
  {
   "cell_type": "code",
   "execution_count": 6,
   "id": "ecd7fb6c-5a64-4898-95cf-9769c7ce9afe",
   "metadata": {},
   "outputs": [],
   "source": [
    "x = data.drop(['Garage'], axis=1)\n",
    "y = data['Garage']\n",
    "\n",
    "x_train, x_test, y_train, y_test = train_test_split(x, y, test_size=0.3, random_state=0)\n"
   ]
  },
  {
   "cell_type": "markdown",
   "id": "9a33d833-83e5-4ba6-9e3c-75995d4aba9c",
   "metadata": {},
   "source": [
    "### 7.2 Initializing the XGBoost Regressor"
   ]
  },
  {
   "cell_type": "code",
   "execution_count": null,
   "id": "0fdb551d-e857-4d71-84cd-a821ed28ad23",
   "metadata": {},
   "outputs": [],
   "source": [
    "params = {\n",
    "    'objective': 'binary:logistic',\n",
    "    'max_depth': 4,\n",
    "    'alpha': 10,\n",
    "    'learning_rate': 0.1,\n",
    "    'n_estimators': 100\n",
    "}\n",
    "\n",
    "xgb_clf = XGBRegressor(**params)\n",
    "xgb_clf.fit(x_train, y_train)\n"
   ]
  },
  {
   "cell_type": "markdown",
   "id": "ff24fb9b-1f49-4532-a566-0f7a8355aa52",
   "metadata": {},
   "source": [
    "### 7.3 Making Predictions"
   ]
  },
  {
   "cell_type": "code",
   "execution_count": null,
   "id": "605eda72-96ea-45e2-9fa8-2c5255ec36d3",
   "metadata": {},
   "outputs": [],
   "source": [
    "y_pred = xgb_clf.predict(x_test)"
   ]
  },
  {
   "cell_type": "markdown",
   "id": "d2345b66-9f39-45d2-92ec-c0563cd71c15",
   "metadata": {},
   "source": [
    "## 8. Model Evaluation"
   ]
  },
  {
   "cell_type": "markdown",
   "id": "9769da54-493a-4cba-9cff-223398553ece",
   "metadata": {},
   "source": [
    "### 8.1 Mean Squared Error\n"
   ]
  },
  {
   "cell_type": "code",
   "execution_count": null,
   "id": "6ec9a743-30c8-4dfc-8dba-d2b555e1cf1b",
   "metadata": {},
   "outputs": [],
   "source": [
    "mse = mean_squared_error(y_test, y_pred)\n",
    "print(\"The mean squared error:\", mse)"
   ]
  },
  {
   "cell_type": "markdown",
   "id": "d35f146e-7768-4668-b65c-191dd7cc633e",
   "metadata": {},
   "source": [
    "**Result**: `0.2531`"
   ]
  },
  {
   "cell_type": "markdown",
   "id": "a199f557-29d0-4fae-a72a-1efcc13659e5",
   "metadata": {},
   "source": [
    "## 8.2 R² Score"
   ]
  },
  {
   "cell_type": "code",
   "execution_count": null,
   "id": "52519098-8431-45b1-9922-49b4137ec153",
   "metadata": {},
   "outputs": [],
   "source": [
    "r2 = r2_score(y_test, y_pred)\n",
    "print(\"The R2 score error:\", r2)\n"
   ]
  },
  {
   "cell_type": "markdown",
   "id": "868bff41-f153-4f7d-b9c6-9638e06ea5bb",
   "metadata": {},
   "source": [
    "**Result**: `-0.0186` (A negative R² indicates a poor fit.)"
   ]
  },
  {
   "cell_type": "markdown",
   "id": "e63de089-8d84-4095-91e9-5dec9b57b98d",
   "metadata": {},
   "source": [
    "## 9. Conclusion  \n",
    "\n",
    "- The dataset was successfully analyzed and preprocessed.  \n",
    "- **Label Encoding** was applied to categorical variables.  \n",
    "- The **XGBoost Regressor** model was built and trained.  \n",
    "- The model was evaluated using **Mean Squared Error (MSE)** and **R² Score**.  \n",
    "- The **R² score** was **-0.0186**, indicating that the model did not perform well.  \n",
    "- The **MSE** was **0.2531**, suggesting that the predictions had some variance from actual values.  \n",
    "- Alternative models (such as **Random Forest Regressor** or **Linear Regression**) may provide better results.  \n"
   ]
  },
  {
   "cell_type": "code",
   "execution_count": null,
   "id": "5422ffd1-9a03-4795-b92d-58affdcf1c33",
   "metadata": {},
   "outputs": [],
   "source": []
  }
 ],
 "metadata": {
  "kernelspec": {
   "display_name": "Python 3 (ipykernel)",
   "language": "python",
   "name": "python3"
  },
  "language_info": {
   "codemirror_mode": {
    "name": "ipython",
    "version": 3
   },
   "file_extension": ".py",
   "mimetype": "text/x-python",
   "name": "python",
   "nbconvert_exporter": "python",
   "pygments_lexer": "ipython3",
   "version": "3.12.4"
  }
 },
 "nbformat": 4,
 "nbformat_minor": 5
}
